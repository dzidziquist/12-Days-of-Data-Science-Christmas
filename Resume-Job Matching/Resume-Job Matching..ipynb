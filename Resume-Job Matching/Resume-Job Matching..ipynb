{
 "cells": [
  {
   "cell_type": "markdown",
   "metadata": {},
   "source": [
    "## Resume-Job Matching"
   ]
  },
  {
   "cell_type": "markdown",
   "metadata": {},
   "source": [
    "This is a project is to match my resume to a job desciption. I will first build a simple system where I input the job description manually to see how it works.a cosine similarity to determine how similar they are.Using  Then later, scrape jobs and their various description into a file and read into the system."
   ]
  },
  {
   "cell_type": "markdown",
   "metadata": {},
   "source": [
    "Import the needed libraries"
   ]
  },
  {
   "cell_type": "code",
   "execution_count": 1,
   "metadata": {},
   "outputs": [],
   "source": [
    "import docx2txt\n",
    "\n",
    "from gensim.summarization.summarizer import summarize\n",
    "from gensim.summarization import keywords"
   ]
  },
  {
   "cell_type": "markdown",
   "metadata": {},
   "source": [
    "Read in the cv/resume"
   ]
  },
  {
   "cell_type": "code",
   "execution_count": 2,
   "metadata": {},
   "outputs": [],
   "source": [
    "resume = docx2txt.process('CV_MaureenDzifaAwumeeQuist.docx')\n",
    "#keywords(resume, ratio=0.2)\n",
    "\n",
    "#taking the professional profile using summary\n",
    "summary = summarize(resume, ratio=0.1)"
   ]
  },
  {
   "cell_type": "markdown",
   "metadata": {},
   "source": [
    "input the job description"
   ]
  },
  {
   "cell_type": "code",
   "execution_count": 3,
   "metadata": {},
   "outputs": [
    {
     "name": "stdout",
     "output_type": "stream",
     "text": [
      "Enter Job Description\n",
      "Construct business rules for programs and processes associated with Operations Planning and Analytics from contractual language and interactions with local operations and communications personnel. Develop analytical tools to evaluate business unit performance. Perform complex, multilayered analysis of operational performance utilizing data from multiple sources. Assist leaders by assembling data to support internal performance presentations. Assist leadership in the development and evaluation of key metrics and benchmarks. Create operational performance reports and test for accuracy on a regular basis. Document and share leading practices in deployment planning and educate operations management by disseminating knowledge of Operations Planning tools and processes. Work as a team with other Operations Planning and Analytics personnel to ensure consistent, quality service across all operations. Adhere to all company policies and procedures. Ability to use / operate standard office equipment and tools. Perform other duties as assigned.  Minimum Qualifications  Bachelor’s degree in business, mathematics, statistics, operations research, engineering, or computer science is preferred. Requires a minimum of 3+ years relevant experience in a role that requires independent analysis of performance metrics. Minimum of 1 year working with statistical analysis and graphical data display.\n"
     ]
    }
   ],
   "source": [
    "job_description = input('Enter Job Description\\n')\n",
    "#summarize(job_description, ratio=0.1)"
   ]
  },
  {
   "cell_type": "markdown",
   "metadata": {},
   "source": [
    "Create a list using both the cv and job description."
   ]
  },
  {
   "cell_type": "code",
   "execution_count": 4,
   "metadata": {},
   "outputs": [],
   "source": [
    "text = [resume, job_description]\n",
    "#text = [resume, job_description]"
   ]
  },
  {
   "cell_type": "markdown",
   "metadata": {},
   "source": [
    "Convert into vectors. "
   ]
  },
  {
   "cell_type": "code",
   "execution_count": 5,
   "metadata": {},
   "outputs": [],
   "source": [
    "from sklearn.feature_extraction.text import CountVectorizer\n",
    "cv = CountVectorizer()\n",
    "count_matrix = cv.fit_transform(text)"
   ]
  },
  {
   "cell_type": "markdown",
   "metadata": {},
   "source": [
    "Using Cosine Similarity to find out how these two texts are similiar using the vectorised  list of the texts"
   ]
  },
  {
   "cell_type": "code",
   "execution_count": 6,
   "metadata": {},
   "outputs": [
    {
     "name": "stdout",
     "output_type": "stream",
     "text": [
      "Your resume matches about 55.75% of the job description.\n"
     ]
    }
   ],
   "source": [
    "from sklearn.metrics.pairwise import cosine_similarity\n",
    "# get the match percentage\n",
    "matchPercentage = cosine_similarity(count_matrix)[0][1] * 100\n",
    "matchPercentage = round(matchPercentage, 2) \n",
    "print('Your resume matches about '+ str(matchPercentage)+ '% of the job description.')"
   ]
  }
 ],
 "metadata": {
  "kernelspec": {
   "display_name": "Python 3",
   "language": "python",
   "name": "python3"
  },
  "language_info": {
   "codemirror_mode": {
    "name": "ipython",
    "version": 3
   },
   "file_extension": ".py",
   "mimetype": "text/x-python",
   "name": "python",
   "nbconvert_exporter": "python",
   "pygments_lexer": "ipython3",
   "version": "3.7.4"
  }
 },
 "nbformat": 4,
 "nbformat_minor": 4
}
